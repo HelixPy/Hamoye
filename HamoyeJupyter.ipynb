{
 "cells": [
  {
   "cell_type": "code",
   "execution_count": 52,
   "metadata": {},
   "outputs": [
    {
     "name": "stdout",
     "output_type": "stream",
     "text": [
      "Thank you Hamoye!\n"
     ]
    }
   ],
   "source": [
    "print (\"Thank you Hamoye!\")"
   ]
  },
  {
   "cell_type": "markdown",
   "metadata": {},
   "source": [
    "print (single _underscore_ or single *asterisks*)"
   ]
  },
  {
   "cell_type": "markdown",
   "metadata": {},
   "source": [
    "user bold **content**"
   ]
  },
  {
   "cell_type": "code",
   "execution_count": 6,
   "metadata": {},
   "outputs": [
    {
     "name": "stdout",
     "output_type": "stream",
     "text": [
      "Fri Jul 10 08:40:34 2020\n"
     ]
    }
   ],
   "source": [
    "import time\n",
    "print (time.ctime())"
   ]
  },
  {
   "cell_type": "code",
   "execution_count": 54,
   "metadata": {},
   "outputs": [
    {
     "name": "stdout",
     "output_type": "stream",
     "text": [
      "precise time concept:  Thu Jul  9 16:58:52 2020\n"
     ]
    }
   ],
   "source": [
    "import time\n",
    "print(\"precise time concept: \", time.ctime())"
   ]
  },
  {
   "cell_type": "code",
   "execution_count": 55,
   "metadata": {},
   "outputs": [
    {
     "name": "stdout",
     "output_type": "stream",
     "text": [
      "sqrt{3x + 2} + x^5\n"
     ]
    }
   ],
   "source": [
    "import math\n",
    "print (\"sqrt{3x + 2} + x^5\")\n"
   ]
  },
  {
   "cell_type": "code",
   "execution_count": 56,
   "metadata": {},
   "outputs": [
    {
     "name": "stdout",
     "output_type": "stream",
     "text": [
      "i love python i love python i love python \n"
     ]
    }
   ],
   "source": [
    "print (\"i love python \" * 3)"
   ]
  },
  {
   "cell_type": "code",
   "execution_count": 57,
   "metadata": {
    "scrolled": false
   },
   "outputs": [
    {
     "name": "stdout",
     "output_type": "stream",
     "text": [
      "[[  8  10   8  10]\n",
      " [ 10  10  14   2]\n",
      " [142 108   4 200]]\n",
      "int32\n",
      "2\n",
      "(3, 4)\n",
      "<class 'numpy.ndarray'>\n"
     ]
    }
   ],
   "source": [
    "import numpy as np\n",
    "arr= ([[4,5,4,5],[5,5,7,1],[71,54,2,100]])\n",
    "mynumpy = np.array(arr)\n",
    "print (mynumpy * 2)\n",
    "print(mynumpy.dtype)\n",
    "print(mynumpy.ndim)\n",
    "print(mynumpy.shape)\n",
    "print(type(mynumpy)     )\n",
    "#np.random.random((3,2))=array([[1,5],[5,7],[71,100]])\n",
    "#print(numpytest)\n"
   ]
  },
  {
   "cell_type": "code",
   "execution_count": 58,
   "metadata": {
    "scrolled": true
   },
   "outputs": [
    {
     "name": "stdout",
     "output_type": "stream",
     "text": [
      "[[ 2  5]\n",
      " [ 5  7]\n",
      " [12  8]] \n",
      "\n",
      " [[5 1]\n",
      " [1 1]\n",
      " [2 3]] \n",
      "\n",
      " [[ 7  6]\n",
      " [ 6  8]\n",
      " [14 11]] \n",
      "\n",
      " [[  3  -4]\n",
      " [ -4  -6]\n",
      " [-10  -5]] \n",
      "\n",
      " [[10  2]\n",
      " [ 2  2]\n",
      " [ 4  6]]\n",
      "(3, 4)\n"
     ]
    }
   ],
   "source": [
    "import numpy as np\n",
    "test1 = np.array([[2,5],[5,7],[12,8]])\n",
    "test2 = np.array([[5,1],[1,1],[2,3]])\n",
    "sumtest = (test1+test2)\n",
    "diftest = (test2-test1)\n",
    "lords=(sumtest+diftest)\n",
    "print(test1, \"\\n\\n\", test2,\"\\n\\n\",sumtest,\"\\n\\n\",diftest,\"\\n\\n\",lords)\n",
    "print(limarray.shape)\n",
    "\n",
    "\n"
   ]
  },
  {
   "cell_type": "code",
   "execution_count": 59,
   "metadata": {},
   "outputs": [
    {
     "name": "stdout",
     "output_type": "stream",
     "text": [
      "[[ 4  5  1  4]\n",
      " [ 5  8  7  1]\n",
      " [ 1  5  2 10]]\n",
      "\n",
      " [[4 5 1]\n",
      " [5 8 7]]\n",
      "\n",
      " [[ True False  True  True]\n",
      " [False False False  True]\n",
      " [ True False  True False]]\n"
     ]
    }
   ],
   "source": [
    "import numpy as np\n",
    "lima= ([[4,5,1,4],[5,8,7,1],[1,5,2,10]])\n",
    "limarray = np.array(lima)\n",
    "print(limarray)\n",
    "print(\"\\n\", limarray[:2, :3])\n",
    "print(\"\\n\",limarray<5)\n"
   ]
  },
  {
   "cell_type": "code",
   "execution_count": 10,
   "metadata": {},
   "outputs": [
    {
     "name": "stdout",
     "output_type": "stream",
     "text": [
      "\n",
      "                      school    name  age  height examtype\n",
      "1           poly sec school    rabi   16    88.2     waec\n",
      "2      saint peters college   kerim   14   100.6     jamb\n",
      "3       holy rosary college    mary   18    95.0      gce\n",
      "4  dickson memorial college  justin   19   112.0     neco\n",
      "\n",
      "                             name  age  height examtype\n",
      "school                                                \n",
      "poly sec school             rabi   16    88.2     waec\n",
      "saint peters college       kerim   14   100.6     jamb\n",
      "dickson memorial college  justin   19   112.0     neco\n"
     ]
    }
   ],
   "source": [
    "import pandas as pd\n",
    "userinfo = {\n",
    "    'school': ['poly sec school', 'saint peters college', 'holy rosary college', 'dickson memorial college'],\n",
    "    'name':['rabi', 'kerim', 'mary', 'justin'], \n",
    "    'age': [16, 14, 18, 19],\n",
    "    'height': [88.2, 100.6, 95.0,112],\n",
    "    'examtype': ['waec', 'jamb', 'gce', 'neco']   \n",
    "}\n",
    "\n",
    "userinfo_dataframe=pd.DataFrame(userinfo, index=[1,2,3,4,])\n",
    "print('\\n', userinfo_dataframe)\n",
    "userinfo_dataframe = userinfo_dataframe.set_index('school')\n",
    "userinfo_dataframe = userinfo_dataframe.drop('holy rosary college', axis=0)\n",
    "print('\\n', userinfo_dataframe)\n",
    "userinfo_dataframe.to_csv(index) "
   ]
  },
  {
   "cell_type": "code",
   "execution_count": 65,
   "metadata": {},
   "outputs": [
    {
     "name": "stdout",
     "output_type": "stream",
     "text": [
      "1      rabi\n",
      "2     kerim\n",
      "3      mary\n",
      "4    justin\n",
      "Name: name, dtype: object\n",
      "\n",
      " school      poly sec school\n",
      "name                   rabi\n",
      "age                      16\n",
      "height               88.2cm\n",
      "examtype               waec\n",
      "Name: 1, dtype: object\n",
      "\n",
      " school      poly sec school\n",
      "name                   rabi\n",
      "age                      16\n",
      "height               88.2cm\n",
      "examtype               waec\n",
      "Name: 1, dtype: object\n",
      "\n",
      " 1             poly sec school\n",
      "2        saint peters college\n",
      "3         holy rosary college\n",
      "4    dickson memorial college\n",
      "Name: school, dtype: object\n",
      "justin\n",
      "rabi\n"
     ]
    }
   ],
   "source": [
    "print(userinfo_dataframe['name'])\n",
    "print(\"\\n\", userinfo_dataframe.loc[1])\n",
    "print(\"\\n\", userinfo_dataframe.iloc[0])\n",
    "print(\"\\n\", userinfo_dataframe['school'])\n",
    "print(userinfo_dataframe.at[4, 'name'])\n",
    "print(userinfo_dataframe.iat[0, 1])\n"
   ]
  },
  {
   "cell_type": "code",
   "execution_count": 2,
   "metadata": {},
   "outputs": [
    {
     "name": "stdout",
     "output_type": "stream",
     "text": [
      "             age      height\n",
      "count   4.000000    4.000000\n",
      "mean   16.750000   98.950000\n",
      "std     2.217356   10.069591\n",
      "min    14.000000   88.200000\n",
      "25%    15.500000   93.300000\n",
      "50%    17.000000   97.800000\n",
      "75%    18.250000  103.450000\n",
      "max    19.000000  112.000000\n"
     ]
    }
   ],
   "source": [
    "descdf = (userinfo_dataframe.describe())\n",
    "print(descdf)\n"
   ]
  },
  {
   "cell_type": "code",
   "execution_count": 22,
   "metadata": {
    "scrolled": true
   },
   "outputs": [
    {
     "name": "stdout",
     "output_type": "stream",
     "text": [
      "          lecturers       courses    salary\n",
      "level1      Mr John  data science  140000.0\n",
      "level2     Mrs Rose           NaN       NaN\n",
      "level3      Mr Mike         maths  120000.0\n",
      "level4  Ms Robinson       english  112000.0\n"
     ]
    }
   ],
   "source": [
    "import pandas as pd\n",
    "import numpy as np\n",
    "staffs = {\n",
    "    'lecturers': ['Mr John', 'Mrs Rose', 'Mr Mike', 'Ms Robinson'],\n",
    "    'courses': ['data science', np.nan, 'maths', 'english'],\n",
    "    'salary': [140000, np.nan, 120000, 112000]\n",
    "}\n",
    "staffs_dataframe = pd.DataFrame(staffs, index=['level1','level2', 'level3', 'level4'])\n",
    "print(staffs_dataframe)"
   ]
  },
  {
   "cell_type": "code",
   "execution_count": 24,
   "metadata": {},
   "outputs": [],
   "source": [
    "staffs_dataframe.to_csv('staffdt.csv', index=False)"
   ]
  },
  {
   "cell_type": "code",
   "execution_count": 7,
   "metadata": {},
   "outputs": [
    {
     "name": "stdout",
     "output_type": "stream",
     "text": [
      "                     record_id  utility_id_ferc1  report_year  \\\n",
      "0        f1_fuel_1994_12_1_0_7                 1         1994   \n",
      "1       f1_fuel_1994_12_1_0_10                 1         1994   \n",
      "2        f1_fuel_1994_12_2_0_1                 2         1994   \n",
      "3        f1_fuel_1994_12_2_0_7                 2         1994   \n",
      "4       f1_fuel_1994_12_2_0_10                 2         1994   \n",
      "...                        ...               ...          ...   \n",
      "29518  f1_fuel_2018_12_12_0_13                12         2018   \n",
      "29519   f1_fuel_2018_12_12_1_1                12         2018   \n",
      "29520  f1_fuel_2018_12_12_1_10                12         2018   \n",
      "29521  f1_fuel_2018_12_12_1_13                12         2018   \n",
      "29522  f1_fuel_2018_12_12_1_14                12         2018   \n",
      "\n",
      "           plant_name_ferc1 fuel_type_code_pudl fuel_unit  fuel_qty_burned  \\\n",
      "0                  rockport                coal       ton        5377489.0   \n",
      "1      rockport total plant                coal       ton       10486945.0   \n",
      "2                    gorgas                coal       ton        2978683.0   \n",
      "3                     barry                coal       ton        3739484.0   \n",
      "4                 chickasaw                 gas       mcf          40533.0   \n",
      "...                     ...                 ...       ...              ...   \n",
      "29518    neil simpson ct #1                 gas       mcf          18799.0   \n",
      "29519  cheyenne prairie 58%                 gas       mcf         806730.0   \n",
      "29520     lange ct facility                 gas       mcf         104554.0   \n",
      "29521       wygen 3 bhp 52%                coal       ton         315945.0   \n",
      "29522       wygen 3 bhp 52%                 gas       mcf          17853.0   \n",
      "\n",
      "       fuel_mmbtu_per_unit  fuel_cost_per_unit_burned  \\\n",
      "0                   16.590                      18.59   \n",
      "1                   16.592                      18.58   \n",
      "2                   24.130                      39.72   \n",
      "3                   23.950                      47.21   \n",
      "4                    1.000                       2.77   \n",
      "...                    ...                        ...   \n",
      "29518                1.059                       4.78   \n",
      "29519                1.050                       3.65   \n",
      "29520                1.060                       4.77   \n",
      "29521               16.108                       3.06   \n",
      "29522                1.059                       0.00   \n",
      "\n",
      "       fuel_cost_per_unit_delivered  fuel_cost_per_mmbtu  \n",
      "0                             18.53                1.121  \n",
      "1                             18.53                1.120  \n",
      "2                             38.12                1.650  \n",
      "3                             45.99                1.970  \n",
      "4                              2.77                2.570  \n",
      "...                             ...                  ...  \n",
      "29518                          4.78                9.030  \n",
      "29519                          3.65                6.950  \n",
      "29520                          4.77                8.990  \n",
      "29521                         14.76                1.110  \n",
      "29522                          0.00               11.680  \n",
      "\n",
      "[29523 rows x 11 columns]\n"
     ]
    }
   ],
   "source": [
    "import pandas as pd\n",
    "FuelData = pd.read_csv('fuel_ferc1.csv')\n",
    "print (FuelData)"
   ]
  },
  {
   "cell_type": "code",
   "execution_count": 11,
   "metadata": {},
   "outputs": [
    {
     "name": "stdout",
     "output_type": "stream",
     "text": [
      "C:\\Users\\Opaluwa\\Documents\\Hamoye\\notebooks\n",
      "['.ipynb_checkpoints', 'fuel_ferc1.csv', 'HamoyeJupyter.ipynb', 'P12-50-Startups.csv', 'P12-SalaryData.csv', 'staffdt.csv', 'Untitled.ipynb', 'Working with numbers and logic.ipynb', 'works on string.py']\n"
     ]
    }
   ],
   "source": [
    "import os\n",
    "print(os.getcwd())\n",
    "print(os.listdir(os.getcwd()))"
   ]
  },
  {
   "cell_type": "code",
   "execution_count": 12,
   "metadata": {},
   "outputs": [
    {
     "name": "stdout",
     "output_type": "stream",
     "text": [
      "                      record_id  utility_id_ferc1   report_year  \\\n",
      "count                     29523      29523.000000  29523.000000   \n",
      "unique                    29523               NaN           NaN   \n",
      "top     f1_fuel_2010_12_281_2_6               NaN           NaN   \n",
      "freq                          1               NaN           NaN   \n",
      "mean                        NaN        118.601836   2005.806050   \n",
      "std                         NaN         74.178353      7.025483   \n",
      "min                         NaN          1.000000   1994.000000   \n",
      "25%                         NaN         55.000000   2000.000000   \n",
      "50%                         NaN        122.000000   2006.000000   \n",
      "75%                         NaN        176.000000   2012.000000   \n",
      "max                         NaN        514.000000   2018.000000   \n",
      "\n",
      "       plant_name_ferc1 fuel_type_code_pudl fuel_unit  fuel_qty_burned  \\\n",
      "count             29523               29523     29343     2.952300e+04   \n",
      "unique             2315                   6         9              NaN   \n",
      "top           big stone                 gas       mcf              NaN   \n",
      "freq                156               11486     11354              NaN   \n",
      "mean                NaN                 NaN       NaN     2.622119e+06   \n",
      "std                 NaN                 NaN       NaN     9.118004e+06   \n",
      "min                 NaN                 NaN       NaN     1.000000e+00   \n",
      "25%                 NaN                 NaN       NaN     1.381700e+04   \n",
      "50%                 NaN                 NaN       NaN     2.533220e+05   \n",
      "75%                 NaN                 NaN       NaN     1.424034e+06   \n",
      "max                 NaN                 NaN       NaN     5.558942e+08   \n",
      "\n",
      "        fuel_mmbtu_per_unit  fuel_cost_per_unit_burned  \\\n",
      "count          29523.000000               29523.000000   \n",
      "unique                  NaN                        NaN   \n",
      "top                     NaN                        NaN   \n",
      "freq                    NaN                        NaN   \n",
      "mean               8.492111                 208.649031   \n",
      "std               10.600220                2854.490090   \n",
      "min                0.000001                -276.080000   \n",
      "25%                1.024000                   5.207000   \n",
      "50%                5.762694                  26.000000   \n",
      "75%               17.006000                  47.113000   \n",
      "max              341.260000              139358.000000   \n",
      "\n",
      "        fuel_cost_per_unit_delivered  fuel_cost_per_mmbtu  \n",
      "count                   2.952300e+04         29523.000000  \n",
      "unique                           NaN                  NaN  \n",
      "top                              NaN                  NaN  \n",
      "freq                             NaN                  NaN  \n",
      "mean                    9.175704e+02            19.304354  \n",
      "std                     6.877593e+04          2091.540939  \n",
      "min                    -8.749370e+02           -41.501000  \n",
      "25%                     3.778500e+00             1.940000  \n",
      "50%                     1.737100e+01             4.127000  \n",
      "75%                     4.213700e+01             7.745000  \n",
      "max                     7.964521e+06        359278.000000  \n"
     ]
    }
   ],
   "source": [
    "print(FuelData.describe(include='all'))"
   ]
  },
  {
   "cell_type": "code",
   "execution_count": 14,
   "metadata": {},
   "outputs": [
    {
     "name": "stdout",
     "output_type": "stream",
     "text": [
      "record_id                         0\n",
      "utility_id_ferc1                  0\n",
      "report_year                       0\n",
      "plant_name_ferc1                  0\n",
      "fuel_type_code_pudl               0\n",
      "fuel_unit                       180\n",
      "fuel_qty_burned                   0\n",
      "fuel_mmbtu_per_unit               0\n",
      "fuel_cost_per_unit_burned         0\n",
      "fuel_cost_per_unit_delivered      0\n",
      "fuel_cost_per_mmbtu               0\n",
      "dtype: int64\n"
     ]
    }
   ],
   "source": [
    "print(FuelData.isnull().sum())"
   ]
  },
  {
   "cell_type": "code",
   "execution_count": null,
   "metadata": {},
   "outputs": [],
   "source": []
  }
 ],
 "metadata": {
  "kernelspec": {
   "display_name": "Python 3",
   "language": "python",
   "name": "python3"
  },
  "language_info": {
   "codemirror_mode": {
    "name": "ipython",
    "version": 3
   },
   "file_extension": ".py",
   "mimetype": "text/x-python",
   "name": "python",
   "nbconvert_exporter": "python",
   "pygments_lexer": "ipython3",
   "version": "3.7.6"
  }
 },
 "nbformat": 4,
 "nbformat_minor": 4
}
